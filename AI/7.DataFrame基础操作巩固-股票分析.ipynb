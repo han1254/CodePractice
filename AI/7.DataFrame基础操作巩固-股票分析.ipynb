{
 "cells": [
  {
   "cell_type": "markdown",
   "metadata": {},
   "source": [
    "- tushare财经数据接口包\n",
    "    - pip install tushare\n",
    "    - 作用：提供相关指定的财经数据"
   ]
  },
  {
   "cell_type": "code",
   "execution_count": 6,
   "metadata": {},
   "outputs": [],
   "source": [
    "import tushare as ts\n",
    "import pandas as pd\n",
    "from pandas import Series,DataFrame"
   ]
  },
  {
   "cell_type": "markdown",
   "metadata": {},
   "source": [
    "### 需求：股票分析\n",
    "- 使用tushare包获取某股票的历史行情数据。\n",
    "- 输出该股票所有收盘比开盘上涨3%以上的日期。\n",
    "- 输出该股票所有开盘比前日收盘跌幅超过2%的日期。\n",
    "- 假如我从2010年1月1日开始，每月第一个交易日买入1手股票，每年最后一个交易日卖出所有股票，到今天为止，我的收益如何？"
   ]
  },
  {
   "cell_type": "code",
   "execution_count": 2,
   "metadata": {},
   "outputs": [
    {
     "name": "stdout",
     "output_type": "stream",
     "text": [
      "本接口即将停止更新，请尽快使用Pro版接口：https://waditu.com/document/2\n"
     ]
    },
    {
     "data": {
      "text/html": [
       "<div>\n",
       "<style scoped>\n",
       "    .dataframe tbody tr th:only-of-type {\n",
       "        vertical-align: middle;\n",
       "    }\n",
       "\n",
       "    .dataframe tbody tr th {\n",
       "        vertical-align: top;\n",
       "    }\n",
       "\n",
       "    .dataframe thead th {\n",
       "        text-align: right;\n",
       "    }\n",
       "</style>\n",
       "<table border=\"1\" class=\"dataframe\">\n",
       "  <thead>\n",
       "    <tr style=\"text-align: right;\">\n",
       "      <th></th>\n",
       "      <th>date</th>\n",
       "      <th>open</th>\n",
       "      <th>close</th>\n",
       "      <th>high</th>\n",
       "      <th>low</th>\n",
       "      <th>volume</th>\n",
       "      <th>code</th>\n",
       "    </tr>\n",
       "  </thead>\n",
       "  <tbody>\n",
       "    <tr>\n",
       "      <th>0</th>\n",
       "      <td>2001-08-27</td>\n",
       "      <td>5.392</td>\n",
       "      <td>5.554</td>\n",
       "      <td>5.902</td>\n",
       "      <td>5.132</td>\n",
       "      <td>406318.00</td>\n",
       "      <td>600519</td>\n",
       "    </tr>\n",
       "    <tr>\n",
       "      <th>1</th>\n",
       "      <td>2001-08-28</td>\n",
       "      <td>5.467</td>\n",
       "      <td>5.759</td>\n",
       "      <td>5.781</td>\n",
       "      <td>5.407</td>\n",
       "      <td>129647.79</td>\n",
       "      <td>600519</td>\n",
       "    </tr>\n",
       "    <tr>\n",
       "      <th>2</th>\n",
       "      <td>2001-08-29</td>\n",
       "      <td>5.777</td>\n",
       "      <td>5.684</td>\n",
       "      <td>5.781</td>\n",
       "      <td>5.640</td>\n",
       "      <td>53252.75</td>\n",
       "      <td>600519</td>\n",
       "    </tr>\n",
       "    <tr>\n",
       "      <th>3</th>\n",
       "      <td>2001-08-30</td>\n",
       "      <td>5.668</td>\n",
       "      <td>5.796</td>\n",
       "      <td>5.860</td>\n",
       "      <td>5.624</td>\n",
       "      <td>48013.06</td>\n",
       "      <td>600519</td>\n",
       "    </tr>\n",
       "    <tr>\n",
       "      <th>4</th>\n",
       "      <td>2001-08-31</td>\n",
       "      <td>5.804</td>\n",
       "      <td>5.782</td>\n",
       "      <td>5.877</td>\n",
       "      <td>5.749</td>\n",
       "      <td>23231.48</td>\n",
       "      <td>600519</td>\n",
       "    </tr>\n",
       "    <tr>\n",
       "      <th>...</th>\n",
       "      <td>...</td>\n",
       "      <td>...</td>\n",
       "      <td>...</td>\n",
       "      <td>...</td>\n",
       "      <td>...</td>\n",
       "      <td>...</td>\n",
       "      <td>...</td>\n",
       "    </tr>\n",
       "    <tr>\n",
       "      <th>4776</th>\n",
       "      <td>2021-08-23</td>\n",
       "      <td>1537.880</td>\n",
       "      <td>1570.190</td>\n",
       "      <td>1599.000</td>\n",
       "      <td>1536.770</td>\n",
       "      <td>71597.00</td>\n",
       "      <td>600519</td>\n",
       "    </tr>\n",
       "    <tr>\n",
       "      <th>4777</th>\n",
       "      <td>2021-08-24</td>\n",
       "      <td>1575.000</td>\n",
       "      <td>1625.180</td>\n",
       "      <td>1642.550</td>\n",
       "      <td>1565.770</td>\n",
       "      <td>72594.00</td>\n",
       "      <td>600519</td>\n",
       "    </tr>\n",
       "    <tr>\n",
       "      <th>4778</th>\n",
       "      <td>2021-08-25</td>\n",
       "      <td>1647.640</td>\n",
       "      <td>1665.020</td>\n",
       "      <td>1680.870</td>\n",
       "      <td>1643.000</td>\n",
       "      <td>54239.00</td>\n",
       "      <td>600519</td>\n",
       "    </tr>\n",
       "    <tr>\n",
       "      <th>4779</th>\n",
       "      <td>2021-08-26</td>\n",
       "      <td>1664.990</td>\n",
       "      <td>1595.000</td>\n",
       "      <td>1664.990</td>\n",
       "      <td>1594.720</td>\n",
       "      <td>54020.00</td>\n",
       "      <td>600519</td>\n",
       "    </tr>\n",
       "    <tr>\n",
       "      <th>4780</th>\n",
       "      <td>2021-08-27</td>\n",
       "      <td>1589.000</td>\n",
       "      <td>1596.030</td>\n",
       "      <td>1625.000</td>\n",
       "      <td>1584.100</td>\n",
       "      <td>36095.00</td>\n",
       "      <td>600519</td>\n",
       "    </tr>\n",
       "  </tbody>\n",
       "</table>\n",
       "<p>4781 rows × 7 columns</p>\n",
       "</div>"
      ],
      "text/plain": [
       "            date      open     close      high       low     volume    code\n",
       "0     2001-08-27     5.392     5.554     5.902     5.132  406318.00  600519\n",
       "1     2001-08-28     5.467     5.759     5.781     5.407  129647.79  600519\n",
       "2     2001-08-29     5.777     5.684     5.781     5.640   53252.75  600519\n",
       "3     2001-08-30     5.668     5.796     5.860     5.624   48013.06  600519\n",
       "4     2001-08-31     5.804     5.782     5.877     5.749   23231.48  600519\n",
       "...          ...       ...       ...       ...       ...        ...     ...\n",
       "4776  2021-08-23  1537.880  1570.190  1599.000  1536.770   71597.00  600519\n",
       "4777  2021-08-24  1575.000  1625.180  1642.550  1565.770   72594.00  600519\n",
       "4778  2021-08-25  1647.640  1665.020  1680.870  1643.000   54239.00  600519\n",
       "4779  2021-08-26  1664.990  1595.000  1664.990  1594.720   54020.00  600519\n",
       "4780  2021-08-27  1589.000  1596.030  1625.000  1584.100   36095.00  600519\n",
       "\n",
       "[4781 rows x 7 columns]"
      ]
     },
     "execution_count": 2,
     "metadata": {},
     "output_type": "execute_result"
    }
   ],
   "source": [
    "df = ts.get_k_data(code='600519',start='1990-01-01')\n",
    "df"
   ]
  },
  {
   "cell_type": "markdown",
   "metadata": {},
   "source": [
    "- 对数据进行预处理"
   ]
  },
  {
   "cell_type": "code",
   "execution_count": 3,
   "metadata": {},
   "outputs": [
    {
     "name": "stdout",
     "output_type": "stream",
     "text": [
      "<class 'pandas.core.frame.DataFrame'>\n",
      "Int64Index: 4781 entries, 0 to 4780\n",
      "Data columns (total 7 columns):\n",
      " #   Column  Non-Null Count  Dtype  \n",
      "---  ------  --------------  -----  \n",
      " 0   date    4781 non-null   object \n",
      " 1   open    4781 non-null   float64\n",
      " 2   close   4781 non-null   float64\n",
      " 3   high    4781 non-null   float64\n",
      " 4   low     4781 non-null   float64\n",
      " 5   volume  4781 non-null   float64\n",
      " 6   code    4781 non-null   object \n",
      "dtypes: float64(5), object(2)\n",
      "memory usage: 298.8+ KB\n"
     ]
    }
   ],
   "source": [
    "df.info()"
   ]
  },
  {
   "cell_type": "code",
   "execution_count": 4,
   "metadata": {},
   "outputs": [],
   "source": [
    "#1.将df中的数据存储到本地\n",
    "df.to_csv('./maotai.csv')"
   ]
  },
  {
   "cell_type": "code",
   "execution_count": 7,
   "metadata": {
    "collapsed": true
   },
   "outputs": [
    {
     "data": {
      "text/html": [
       "<div>\n",
       "<style scoped>\n",
       "    .dataframe tbody tr th:only-of-type {\n",
       "        vertical-align: middle;\n",
       "    }\n",
       "\n",
       "    .dataframe tbody tr th {\n",
       "        vertical-align: top;\n",
       "    }\n",
       "\n",
       "    .dataframe thead th {\n",
       "        text-align: right;\n",
       "    }\n",
       "</style>\n",
       "<table border=\"1\" class=\"dataframe\">\n",
       "  <thead>\n",
       "    <tr style=\"text-align: right;\">\n",
       "      <th></th>\n",
       "      <th>Unnamed: 0</th>\n",
       "      <th>date</th>\n",
       "      <th>open</th>\n",
       "      <th>close</th>\n",
       "      <th>high</th>\n",
       "      <th>low</th>\n",
       "      <th>volume</th>\n",
       "      <th>code</th>\n",
       "    </tr>\n",
       "  </thead>\n",
       "  <tbody>\n",
       "    <tr>\n",
       "      <th>0</th>\n",
       "      <td>0</td>\n",
       "      <td>2001-08-27</td>\n",
       "      <td>5.392</td>\n",
       "      <td>5.554</td>\n",
       "      <td>5.902</td>\n",
       "      <td>5.132</td>\n",
       "      <td>406318.00</td>\n",
       "      <td>600519</td>\n",
       "    </tr>\n",
       "    <tr>\n",
       "      <th>1</th>\n",
       "      <td>1</td>\n",
       "      <td>2001-08-28</td>\n",
       "      <td>5.467</td>\n",
       "      <td>5.759</td>\n",
       "      <td>5.781</td>\n",
       "      <td>5.407</td>\n",
       "      <td>129647.79</td>\n",
       "      <td>600519</td>\n",
       "    </tr>\n",
       "    <tr>\n",
       "      <th>2</th>\n",
       "      <td>2</td>\n",
       "      <td>2001-08-29</td>\n",
       "      <td>5.777</td>\n",
       "      <td>5.684</td>\n",
       "      <td>5.781</td>\n",
       "      <td>5.640</td>\n",
       "      <td>53252.75</td>\n",
       "      <td>600519</td>\n",
       "    </tr>\n",
       "    <tr>\n",
       "      <th>3</th>\n",
       "      <td>3</td>\n",
       "      <td>2001-08-30</td>\n",
       "      <td>5.668</td>\n",
       "      <td>5.796</td>\n",
       "      <td>5.860</td>\n",
       "      <td>5.624</td>\n",
       "      <td>48013.06</td>\n",
       "      <td>600519</td>\n",
       "    </tr>\n",
       "    <tr>\n",
       "      <th>4</th>\n",
       "      <td>4</td>\n",
       "      <td>2001-08-31</td>\n",
       "      <td>5.804</td>\n",
       "      <td>5.782</td>\n",
       "      <td>5.877</td>\n",
       "      <td>5.749</td>\n",
       "      <td>23231.48</td>\n",
       "      <td>600519</td>\n",
       "    </tr>\n",
       "    <tr>\n",
       "      <th>...</th>\n",
       "      <td>...</td>\n",
       "      <td>...</td>\n",
       "      <td>...</td>\n",
       "      <td>...</td>\n",
       "      <td>...</td>\n",
       "      <td>...</td>\n",
       "      <td>...</td>\n",
       "      <td>...</td>\n",
       "    </tr>\n",
       "    <tr>\n",
       "      <th>4776</th>\n",
       "      <td>4776</td>\n",
       "      <td>2021-08-23</td>\n",
       "      <td>1537.880</td>\n",
       "      <td>1570.190</td>\n",
       "      <td>1599.000</td>\n",
       "      <td>1536.770</td>\n",
       "      <td>71597.00</td>\n",
       "      <td>600519</td>\n",
       "    </tr>\n",
       "    <tr>\n",
       "      <th>4777</th>\n",
       "      <td>4777</td>\n",
       "      <td>2021-08-24</td>\n",
       "      <td>1575.000</td>\n",
       "      <td>1625.180</td>\n",
       "      <td>1642.550</td>\n",
       "      <td>1565.770</td>\n",
       "      <td>72594.00</td>\n",
       "      <td>600519</td>\n",
       "    </tr>\n",
       "    <tr>\n",
       "      <th>4778</th>\n",
       "      <td>4778</td>\n",
       "      <td>2021-08-25</td>\n",
       "      <td>1647.640</td>\n",
       "      <td>1665.020</td>\n",
       "      <td>1680.870</td>\n",
       "      <td>1643.000</td>\n",
       "      <td>54239.00</td>\n",
       "      <td>600519</td>\n",
       "    </tr>\n",
       "    <tr>\n",
       "      <th>4779</th>\n",
       "      <td>4779</td>\n",
       "      <td>2021-08-26</td>\n",
       "      <td>1664.990</td>\n",
       "      <td>1595.000</td>\n",
       "      <td>1664.990</td>\n",
       "      <td>1594.720</td>\n",
       "      <td>54020.00</td>\n",
       "      <td>600519</td>\n",
       "    </tr>\n",
       "    <tr>\n",
       "      <th>4780</th>\n",
       "      <td>4780</td>\n",
       "      <td>2021-08-27</td>\n",
       "      <td>1589.000</td>\n",
       "      <td>1596.030</td>\n",
       "      <td>1625.000</td>\n",
       "      <td>1584.100</td>\n",
       "      <td>36095.00</td>\n",
       "      <td>600519</td>\n",
       "    </tr>\n",
       "  </tbody>\n",
       "</table>\n",
       "<p>4781 rows × 8 columns</p>\n",
       "</div>"
      ],
      "text/plain": [
       "      Unnamed: 0        date      open     close      high       low  \\\n",
       "0              0  2001-08-27     5.392     5.554     5.902     5.132   \n",
       "1              1  2001-08-28     5.467     5.759     5.781     5.407   \n",
       "2              2  2001-08-29     5.777     5.684     5.781     5.640   \n",
       "3              3  2001-08-30     5.668     5.796     5.860     5.624   \n",
       "4              4  2001-08-31     5.804     5.782     5.877     5.749   \n",
       "...          ...         ...       ...       ...       ...       ...   \n",
       "4776        4776  2021-08-23  1537.880  1570.190  1599.000  1536.770   \n",
       "4777        4777  2021-08-24  1575.000  1625.180  1642.550  1565.770   \n",
       "4778        4778  2021-08-25  1647.640  1665.020  1680.870  1643.000   \n",
       "4779        4779  2021-08-26  1664.990  1595.000  1664.990  1594.720   \n",
       "4780        4780  2021-08-27  1589.000  1596.030  1625.000  1584.100   \n",
       "\n",
       "         volume    code  \n",
       "0     406318.00  600519  \n",
       "1     129647.79  600519  \n",
       "2      53252.75  600519  \n",
       "3      48013.06  600519  \n",
       "4      23231.48  600519  \n",
       "...         ...     ...  \n",
       "4776   71597.00  600519  \n",
       "4777   72594.00  600519  \n",
       "4778   54239.00  600519  \n",
       "4779   54020.00  600519  \n",
       "4780   36095.00  600519  \n",
       "\n",
       "[4781 rows x 8 columns]"
      ]
     },
     "execution_count": 7,
     "metadata": {},
     "output_type": "execute_result"
    }
   ],
   "source": [
    "#2.可以将本地的文件数据读取到df\n",
    "df = pd.read_csv('./maotai.csv')\n",
    "df"
   ]
  },
  {
   "cell_type": "code",
   "execution_count": 10,
   "metadata": {},
   "outputs": [],
   "source": [
    "#删除指定的列\n",
    "df.drop(labels='Unnamed: 0',axis=1,inplace=True) #axis=0表示的行1表示的是列"
   ]
  },
  {
   "cell_type": "code",
   "execution_count": 15,
   "metadata": {},
   "outputs": [],
   "source": [
    "df['date'] = pd.to_datetime(df['date']) #进行时间类型转换"
   ]
  },
  {
   "cell_type": "code",
   "execution_count": 18,
   "metadata": {},
   "outputs": [],
   "source": [
    "#将date作为原数据的行索引\n",
    "df.set_index('date',inplace=True)"
   ]
  },
  {
   "cell_type": "markdown",
   "metadata": {},
   "source": [
    "- 输出该股票所有收盘比开盘上涨3%以上的日期。"
   ]
  },
  {
   "cell_type": "code",
   "execution_count": 23,
   "metadata": {},
   "outputs": [
    {
     "data": {
      "text/plain": [
       "date\n",
       "2001-08-27     True\n",
       "2001-08-28     True\n",
       "2001-08-29    False\n",
       "2001-08-30    False\n",
       "2001-08-31    False\n",
       "              ...  \n",
       "2021-08-23    False\n",
       "2021-08-24     True\n",
       "2021-08-25    False\n",
       "2021-08-26    False\n",
       "2021-08-27    False\n",
       "Length: 4781, dtype: bool"
      ]
     },
     "execution_count": 23,
     "metadata": {},
     "output_type": "execute_result"
    }
   ],
   "source": [
    "#(收盘-开盘) / 开盘 > 0.03\n",
    "((df['close'] - df['open']) / df['open'])  > 0.03"
   ]
  },
  {
   "cell_type": "code",
   "execution_count": 31,
   "metadata": {
    "collapsed": true
   },
   "outputs": [
    {
     "data": {
      "text/html": [
       "<div>\n",
       "<style scoped>\n",
       "    .dataframe tbody tr th:only-of-type {\n",
       "        vertical-align: middle;\n",
       "    }\n",
       "\n",
       "    .dataframe tbody tr th {\n",
       "        vertical-align: top;\n",
       "    }\n",
       "\n",
       "    .dataframe thead th {\n",
       "        text-align: right;\n",
       "    }\n",
       "</style>\n",
       "<table border=\"1\" class=\"dataframe\">\n",
       "  <thead>\n",
       "    <tr style=\"text-align: right;\">\n",
       "      <th></th>\n",
       "      <th>open</th>\n",
       "      <th>close</th>\n",
       "      <th>high</th>\n",
       "      <th>low</th>\n",
       "      <th>volume</th>\n",
       "      <th>code</th>\n",
       "    </tr>\n",
       "    <tr>\n",
       "      <th>date</th>\n",
       "      <th></th>\n",
       "      <th></th>\n",
       "      <th></th>\n",
       "      <th></th>\n",
       "      <th></th>\n",
       "      <th></th>\n",
       "    </tr>\n",
       "  </thead>\n",
       "  <tbody>\n",
       "    <tr>\n",
       "      <th>2001-08-27</th>\n",
       "      <td>5.392</td>\n",
       "      <td>5.554</td>\n",
       "      <td>5.902</td>\n",
       "      <td>5.132</td>\n",
       "      <td>406318.00</td>\n",
       "      <td>600519</td>\n",
       "    </tr>\n",
       "    <tr>\n",
       "      <th>2001-08-28</th>\n",
       "      <td>5.467</td>\n",
       "      <td>5.759</td>\n",
       "      <td>5.781</td>\n",
       "      <td>5.407</td>\n",
       "      <td>129647.79</td>\n",
       "      <td>600519</td>\n",
       "    </tr>\n",
       "    <tr>\n",
       "      <th>2001-09-10</th>\n",
       "      <td>5.531</td>\n",
       "      <td>5.734</td>\n",
       "      <td>5.757</td>\n",
       "      <td>5.470</td>\n",
       "      <td>18878.89</td>\n",
       "      <td>600519</td>\n",
       "    </tr>\n",
       "    <tr>\n",
       "      <th>2001-12-21</th>\n",
       "      <td>5.421</td>\n",
       "      <td>5.604</td>\n",
       "      <td>5.620</td>\n",
       "      <td>5.421</td>\n",
       "      <td>8135.04</td>\n",
       "      <td>600519</td>\n",
       "    </tr>\n",
       "    <tr>\n",
       "      <th>2002-01-18</th>\n",
       "      <td>5.437</td>\n",
       "      <td>5.726</td>\n",
       "      <td>5.762</td>\n",
       "      <td>5.421</td>\n",
       "      <td>32262.08</td>\n",
       "      <td>600519</td>\n",
       "    </tr>\n",
       "    <tr>\n",
       "      <th>...</th>\n",
       "      <td>...</td>\n",
       "      <td>...</td>\n",
       "      <td>...</td>\n",
       "      <td>...</td>\n",
       "      <td>...</td>\n",
       "      <td>...</td>\n",
       "    </tr>\n",
       "    <tr>\n",
       "      <th>2021-05-25</th>\n",
       "      <td>2085.000</td>\n",
       "      <td>2194.500</td>\n",
       "      <td>2200.100</td>\n",
       "      <td>2085.000</td>\n",
       "      <td>67757.00</td>\n",
       "      <td>600519</td>\n",
       "    </tr>\n",
       "    <tr>\n",
       "      <th>2021-07-28</th>\n",
       "      <td>1703.000</td>\n",
       "      <td>1768.900</td>\n",
       "      <td>1788.200</td>\n",
       "      <td>1682.120</td>\n",
       "      <td>85369.00</td>\n",
       "      <td>600519</td>\n",
       "    </tr>\n",
       "    <tr>\n",
       "      <th>2021-08-02</th>\n",
       "      <td>1664.000</td>\n",
       "      <td>1755.000</td>\n",
       "      <td>1755.980</td>\n",
       "      <td>1620.720</td>\n",
       "      <td>97401.00</td>\n",
       "      <td>600519</td>\n",
       "    </tr>\n",
       "    <tr>\n",
       "      <th>2021-08-10</th>\n",
       "      <td>1700.000</td>\n",
       "      <td>1799.000</td>\n",
       "      <td>1802.880</td>\n",
       "      <td>1675.000</td>\n",
       "      <td>83285.00</td>\n",
       "      <td>600519</td>\n",
       "    </tr>\n",
       "    <tr>\n",
       "      <th>2021-08-24</th>\n",
       "      <td>1575.000</td>\n",
       "      <td>1625.180</td>\n",
       "      <td>1642.550</td>\n",
       "      <td>1565.770</td>\n",
       "      <td>72594.00</td>\n",
       "      <td>600519</td>\n",
       "    </tr>\n",
       "  </tbody>\n",
       "</table>\n",
       "<p>332 rows × 6 columns</p>\n",
       "</div>"
      ],
      "text/plain": [
       "                open     close      high       low     volume    code\n",
       "date                                                                 \n",
       "2001-08-27     5.392     5.554     5.902     5.132  406318.00  600519\n",
       "2001-08-28     5.467     5.759     5.781     5.407  129647.79  600519\n",
       "2001-09-10     5.531     5.734     5.757     5.470   18878.89  600519\n",
       "2001-12-21     5.421     5.604     5.620     5.421    8135.04  600519\n",
       "2002-01-18     5.437     5.726     5.762     5.421   32262.08  600519\n",
       "...              ...       ...       ...       ...        ...     ...\n",
       "2021-05-25  2085.000  2194.500  2200.100  2085.000   67757.00  600519\n",
       "2021-07-28  1703.000  1768.900  1788.200  1682.120   85369.00  600519\n",
       "2021-08-02  1664.000  1755.000  1755.980  1620.720   97401.00  600519\n",
       "2021-08-10  1700.000  1799.000  1802.880  1675.000   83285.00  600519\n",
       "2021-08-24  1575.000  1625.180  1642.550  1565.770   72594.00  600519\n",
       "\n",
       "[332 rows x 6 columns]"
      ]
     },
     "execution_count": 31,
     "metadata": {},
     "output_type": "execute_result"
    }
   ],
   "source": [
    "#获取了True对应的行数据：就是满足需求的行数据\n",
    "df.loc[((df['close'] - df['open']) / df['open'])  > 0.03]"
   ]
  },
  {
   "cell_type": "code",
   "execution_count": 32,
   "metadata": {},
   "outputs": [
    {
     "data": {
      "text/plain": [
       "DatetimeIndex(['2001-08-27', '2001-08-28', '2001-09-10', '2001-12-21',\n",
       "               '2002-01-18', '2002-01-31', '2003-01-14', '2003-10-29',\n",
       "               '2004-01-05', '2004-01-14',\n",
       "               ...\n",
       "               '2021-03-03', '2021-03-05', '2021-03-11', '2021-04-02',\n",
       "               '2021-05-11', '2021-05-25', '2021-07-28', '2021-08-02',\n",
       "               '2021-08-10', '2021-08-24'],\n",
       "              dtype='datetime64[ns]', name='date', length=332, freq=None)"
      ]
     },
     "execution_count": 32,
     "metadata": {},
     "output_type": "execute_result"
    }
   ],
   "source": [
    "#基于index获取满足需求行数据的行索引\n",
    "df.loc[((df['close'] - df['open']) / df['open'])  > 0.03].index"
   ]
  },
  {
   "cell_type": "markdown",
   "metadata": {},
   "source": [
    "- 输出该股票所有开盘比前日收盘跌幅超过2%的日期。"
   ]
  },
  {
   "cell_type": "code",
   "execution_count": 36,
   "metadata": {
    "collapsed": true
   },
   "outputs": [
    {
     "data": {
      "text/plain": [
       "date\n",
       "2001-08-27    False\n",
       "2001-08-28    False\n",
       "2001-08-29    False\n",
       "2001-08-30    False\n",
       "2001-08-31    False\n",
       "              ...  \n",
       "2021-08-23    False\n",
       "2021-08-24    False\n",
       "2021-08-25    False\n",
       "2021-08-26    False\n",
       "2021-08-27    False\n",
       "Length: 4781, dtype: bool"
      ]
     },
     "execution_count": 36,
     "metadata": {},
     "output_type": "execute_result"
    }
   ],
   "source": [
    "#（开盘-前日收盘）/前日收盘 < -0.02\n",
    "((df['open']-df['close'].shift(1))/df['close'].shift(1)) < -0.02"
   ]
  },
  {
   "cell_type": "code",
   "execution_count": 38,
   "metadata": {
    "collapsed": true
   },
   "outputs": [
    {
     "data": {
      "text/plain": [
       "DatetimeIndex(['2001-09-12', '2002-06-26', '2002-12-13', '2004-07-01',\n",
       "               '2004-10-29', '2006-08-21', '2006-08-23', '2007-01-25',\n",
       "               '2007-02-01', '2007-02-06', '2007-03-19', '2007-05-21',\n",
       "               '2007-05-30', '2007-06-05', '2007-07-27', '2007-09-05',\n",
       "               '2007-09-10', '2008-03-13', '2008-03-17', '2008-03-25',\n",
       "               '2008-03-27', '2008-04-22', '2008-04-23', '2008-04-29',\n",
       "               '2008-05-13', '2008-06-10', '2008-06-13', '2008-06-24',\n",
       "               '2008-06-27', '2008-08-11', '2008-08-19', '2008-09-23',\n",
       "               '2008-10-10', '2008-10-15', '2008-10-16', '2008-10-20',\n",
       "               '2008-10-23', '2008-10-27', '2008-11-06', '2008-11-12',\n",
       "               '2008-11-20', '2008-11-21', '2008-12-02', '2009-02-27',\n",
       "               '2009-03-25', '2009-08-13', '2010-04-26', '2010-04-30',\n",
       "               '2011-08-05', '2012-03-27', '2012-08-10', '2012-11-22',\n",
       "               '2012-12-04', '2012-12-24', '2013-01-16', '2013-01-25',\n",
       "               '2013-09-02', '2014-04-25', '2015-01-19', '2015-05-25',\n",
       "               '2015-07-03', '2015-07-08', '2015-07-13', '2015-08-24',\n",
       "               '2015-09-02', '2015-09-15', '2017-11-17', '2018-02-06',\n",
       "               '2018-02-09', '2018-03-23', '2018-03-28', '2018-07-11',\n",
       "               '2018-10-11', '2018-10-24', '2018-10-25', '2018-10-29',\n",
       "               '2018-10-30', '2019-05-06', '2019-05-08', '2019-10-16',\n",
       "               '2020-01-02', '2020-02-03', '2020-03-13', '2020-03-23',\n",
       "               '2020-10-26', '2021-02-26', '2021-03-04', '2021-04-28',\n",
       "               '2021-08-20'],\n",
       "              dtype='datetime64[ns]', name='date', freq=None)"
      ]
     },
     "execution_count": 38,
     "metadata": {},
     "output_type": "execute_result"
    }
   ],
   "source": [
    "df.loc[((df['open']-df['close'].shift(1))/df['close'].shift(1)) < -0.02].index"
   ]
  },
  {
   "cell_type": "markdown",
   "metadata": {},
   "source": [
    "- 假如我从2010年1月1日开始，每月第一个交易日买入1手股票，每年最后一个交易日卖出所有股票，到今天为止，我的收益如何？"
   ]
  },
  {
   "cell_type": "code",
   "execution_count": 42,
   "metadata": {},
   "outputs": [],
   "source": [
    "#1.将2010-2021区间的数据取出\n",
    "new_df = df['2010':'2021']"
   ]
  },
  {
   "cell_type": "markdown",
   "metadata": {},
   "source": [
    "- 分析：\n",
    "    - 买入股票\n",
    "        - 一个完整的年，需要买入12手1200支股票。以购买当期的开盘价进行股票的买卖。\n",
    "    - 卖出股票\n",
    "        - 一个完整的年，需要卖出1200支股票（开盘价为单价）\n",
    "    - 特殊情况：\n",
    "        - 2021年就是一个特殊的年，只可以买不可以卖，但是手里剩余的股票是需要计算到总收益中。"
   ]
  },
  {
   "cell_type": "code",
   "execution_count": 50,
   "metadata": {},
   "outputs": [
    {
     "data": {
      "text/html": [
       "<div>\n",
       "<style scoped>\n",
       "    .dataframe tbody tr th:only-of-type {\n",
       "        vertical-align: middle;\n",
       "    }\n",
       "\n",
       "    .dataframe tbody tr th {\n",
       "        vertical-align: top;\n",
       "    }\n",
       "\n",
       "    .dataframe thead th {\n",
       "        text-align: right;\n",
       "    }\n",
       "</style>\n",
       "<table border=\"1\" class=\"dataframe\">\n",
       "  <thead>\n",
       "    <tr style=\"text-align: right;\">\n",
       "      <th></th>\n",
       "      <th>open</th>\n",
       "      <th>close</th>\n",
       "      <th>high</th>\n",
       "      <th>low</th>\n",
       "      <th>volume</th>\n",
       "      <th>code</th>\n",
       "    </tr>\n",
       "    <tr>\n",
       "      <th>date</th>\n",
       "      <th></th>\n",
       "      <th></th>\n",
       "      <th></th>\n",
       "      <th></th>\n",
       "      <th></th>\n",
       "      <th></th>\n",
       "    </tr>\n",
       "  </thead>\n",
       "  <tbody>\n",
       "    <tr>\n",
       "      <th>2010-01-31</th>\n",
       "      <td>109.760</td>\n",
       "      <td>108.446</td>\n",
       "      <td>109.760</td>\n",
       "      <td>108.044</td>\n",
       "      <td>44304.88</td>\n",
       "      <td>600519</td>\n",
       "    </tr>\n",
       "    <tr>\n",
       "      <th>2010-02-28</th>\n",
       "      <td>107.769</td>\n",
       "      <td>107.776</td>\n",
       "      <td>108.216</td>\n",
       "      <td>106.576</td>\n",
       "      <td>29655.94</td>\n",
       "      <td>600519</td>\n",
       "    </tr>\n",
       "    <tr>\n",
       "      <th>2010-03-31</th>\n",
       "      <td>106.219</td>\n",
       "      <td>106.085</td>\n",
       "      <td>106.857</td>\n",
       "      <td>105.925</td>\n",
       "      <td>21734.74</td>\n",
       "      <td>600519</td>\n",
       "    </tr>\n",
       "    <tr>\n",
       "      <th>2010-04-30</th>\n",
       "      <td>101.324</td>\n",
       "      <td>102.141</td>\n",
       "      <td>102.422</td>\n",
       "      <td>101.311</td>\n",
       "      <td>23980.83</td>\n",
       "      <td>600519</td>\n",
       "    </tr>\n",
       "    <tr>\n",
       "      <th>2010-05-31</th>\n",
       "      <td>81.676</td>\n",
       "      <td>82.091</td>\n",
       "      <td>82.678</td>\n",
       "      <td>80.974</td>\n",
       "      <td>23975.16</td>\n",
       "      <td>600519</td>\n",
       "    </tr>\n",
       "    <tr>\n",
       "      <th>...</th>\n",
       "      <td>...</td>\n",
       "      <td>...</td>\n",
       "      <td>...</td>\n",
       "      <td>...</td>\n",
       "      <td>...</td>\n",
       "      <td>...</td>\n",
       "    </tr>\n",
       "    <tr>\n",
       "      <th>2021-04-30</th>\n",
       "      <td>2021.000</td>\n",
       "      <td>2044.500</td>\n",
       "      <td>2046.800</td>\n",
       "      <td>2001.220</td>\n",
       "      <td>26588.00</td>\n",
       "      <td>600519</td>\n",
       "    </tr>\n",
       "    <tr>\n",
       "      <th>2021-05-31</th>\n",
       "      <td>2000.000</td>\n",
       "      <td>1959.000</td>\n",
       "      <td>2006.840</td>\n",
       "      <td>1953.000</td>\n",
       "      <td>53546.00</td>\n",
       "      <td>600519</td>\n",
       "    </tr>\n",
       "    <tr>\n",
       "      <th>2021-06-30</th>\n",
       "      <td>2222.000</td>\n",
       "      <td>2240.950</td>\n",
       "      <td>2248.950</td>\n",
       "      <td>2206.000</td>\n",
       "      <td>30616.00</td>\n",
       "      <td>600519</td>\n",
       "    </tr>\n",
       "    <tr>\n",
       "      <th>2021-07-31</th>\n",
       "      <td>2059.970</td>\n",
       "      <td>2105.000</td>\n",
       "      <td>2110.000</td>\n",
       "      <td>2031.600</td>\n",
       "      <td>33701.00</td>\n",
       "      <td>600519</td>\n",
       "    </tr>\n",
       "    <tr>\n",
       "      <th>2021-08-31</th>\n",
       "      <td>1664.000</td>\n",
       "      <td>1755.000</td>\n",
       "      <td>1755.980</td>\n",
       "      <td>1620.720</td>\n",
       "      <td>97401.00</td>\n",
       "      <td>600519</td>\n",
       "    </tr>\n",
       "  </tbody>\n",
       "</table>\n",
       "<p>140 rows × 6 columns</p>\n",
       "</div>"
      ],
      "text/plain": [
       "                open     close      high       low    volume    code\n",
       "date                                                                \n",
       "2010-01-31   109.760   108.446   109.760   108.044  44304.88  600519\n",
       "2010-02-28   107.769   107.776   108.216   106.576  29655.94  600519\n",
       "2010-03-31   106.219   106.085   106.857   105.925  21734.74  600519\n",
       "2010-04-30   101.324   102.141   102.422   101.311  23980.83  600519\n",
       "2010-05-31    81.676    82.091    82.678    80.974  23975.16  600519\n",
       "...              ...       ...       ...       ...       ...     ...\n",
       "2021-04-30  2021.000  2044.500  2046.800  2001.220  26588.00  600519\n",
       "2021-05-31  2000.000  1959.000  2006.840  1953.000  53546.00  600519\n",
       "2021-06-30  2222.000  2240.950  2248.950  2206.000  30616.00  600519\n",
       "2021-07-31  2059.970  2105.000  2110.000  2031.600  33701.00  600519\n",
       "2021-08-31  1664.000  1755.000  1755.980  1620.720  97401.00  600519\n",
       "\n",
       "[140 rows x 6 columns]"
      ]
     },
     "execution_count": 50,
     "metadata": {},
     "output_type": "execute_result"
    }
   ],
   "source": [
    "#对数据进行指定的取样\n",
    "df_monthly = new_df.resample('M').first()\n",
    "df_monthly"
   ]
  },
  {
   "cell_type": "code",
   "execution_count": 51,
   "metadata": {},
   "outputs": [
    {
     "data": {
      "text/plain": [
       "7121700.100000001"
      ]
     },
     "execution_count": 51,
     "metadata": {},
     "output_type": "execute_result"
    }
   ],
   "source": [
    "#购买股票一共花费的金额\n",
    "cost = df_monthly['open'].sum()*100\n",
    "cost"
   ]
  },
  {
   "cell_type": "code",
   "execution_count": 54,
   "metadata": {},
   "outputs": [
    {
     "data": {
      "text/html": [
       "<div>\n",
       "<style scoped>\n",
       "    .dataframe tbody tr th:only-of-type {\n",
       "        vertical-align: middle;\n",
       "    }\n",
       "\n",
       "    .dataframe tbody tr th {\n",
       "        vertical-align: top;\n",
       "    }\n",
       "\n",
       "    .dataframe thead th {\n",
       "        text-align: right;\n",
       "    }\n",
       "</style>\n",
       "<table border=\"1\" class=\"dataframe\">\n",
       "  <thead>\n",
       "    <tr style=\"text-align: right;\">\n",
       "      <th></th>\n",
       "      <th>open</th>\n",
       "      <th>close</th>\n",
       "      <th>high</th>\n",
       "      <th>low</th>\n",
       "      <th>volume</th>\n",
       "      <th>code</th>\n",
       "    </tr>\n",
       "    <tr>\n",
       "      <th>date</th>\n",
       "      <th></th>\n",
       "      <th></th>\n",
       "      <th></th>\n",
       "      <th></th>\n",
       "      <th></th>\n",
       "      <th></th>\n",
       "    </tr>\n",
       "  </thead>\n",
       "  <tbody>\n",
       "    <tr>\n",
       "      <th>2010-12-31</th>\n",
       "      <td>117.103</td>\n",
       "      <td>118.469</td>\n",
       "      <td>118.701</td>\n",
       "      <td>116.620</td>\n",
       "      <td>46084.0</td>\n",
       "      <td>600519</td>\n",
       "    </tr>\n",
       "    <tr>\n",
       "      <th>2011-12-31</th>\n",
       "      <td>138.039</td>\n",
       "      <td>138.468</td>\n",
       "      <td>139.600</td>\n",
       "      <td>136.105</td>\n",
       "      <td>29460.0</td>\n",
       "      <td>600519</td>\n",
       "    </tr>\n",
       "    <tr>\n",
       "      <th>2012-12-31</th>\n",
       "      <td>155.208</td>\n",
       "      <td>152.087</td>\n",
       "      <td>156.292</td>\n",
       "      <td>150.144</td>\n",
       "      <td>51914.0</td>\n",
       "      <td>600519</td>\n",
       "    </tr>\n",
       "    <tr>\n",
       "      <th>2013-12-31</th>\n",
       "      <td>93.188</td>\n",
       "      <td>96.480</td>\n",
       "      <td>97.179</td>\n",
       "      <td>92.061</td>\n",
       "      <td>57546.0</td>\n",
       "      <td>600519</td>\n",
       "    </tr>\n",
       "    <tr>\n",
       "      <th>2014-12-31</th>\n",
       "      <td>157.642</td>\n",
       "      <td>161.056</td>\n",
       "      <td>161.379</td>\n",
       "      <td>157.132</td>\n",
       "      <td>46269.0</td>\n",
       "      <td>600519</td>\n",
       "    </tr>\n",
       "    <tr>\n",
       "      <th>2015-12-31</th>\n",
       "      <td>207.487</td>\n",
       "      <td>207.458</td>\n",
       "      <td>208.704</td>\n",
       "      <td>207.106</td>\n",
       "      <td>19673.0</td>\n",
       "      <td>600519</td>\n",
       "    </tr>\n",
       "    <tr>\n",
       "      <th>2016-12-31</th>\n",
       "      <td>317.239</td>\n",
       "      <td>324.563</td>\n",
       "      <td>325.670</td>\n",
       "      <td>317.239</td>\n",
       "      <td>34687.0</td>\n",
       "      <td>600519</td>\n",
       "    </tr>\n",
       "    <tr>\n",
       "      <th>2017-12-31</th>\n",
       "      <td>707.948</td>\n",
       "      <td>687.725</td>\n",
       "      <td>716.329</td>\n",
       "      <td>681.918</td>\n",
       "      <td>76038.0</td>\n",
       "      <td>600519</td>\n",
       "    </tr>\n",
       "    <tr>\n",
       "      <th>2018-12-31</th>\n",
       "      <td>563.300</td>\n",
       "      <td>590.010</td>\n",
       "      <td>596.400</td>\n",
       "      <td>560.000</td>\n",
       "      <td>63678.0</td>\n",
       "      <td>600519</td>\n",
       "    </tr>\n",
       "    <tr>\n",
       "      <th>2019-12-31</th>\n",
       "      <td>1183.000</td>\n",
       "      <td>1183.000</td>\n",
       "      <td>1188.000</td>\n",
       "      <td>1176.510</td>\n",
       "      <td>22588.0</td>\n",
       "      <td>600519</td>\n",
       "    </tr>\n",
       "    <tr>\n",
       "      <th>2020-12-31</th>\n",
       "      <td>1941.000</td>\n",
       "      <td>1998.000</td>\n",
       "      <td>1998.980</td>\n",
       "      <td>1939.000</td>\n",
       "      <td>38860.0</td>\n",
       "      <td>600519</td>\n",
       "    </tr>\n",
       "  </tbody>\n",
       "</table>\n",
       "</div>"
      ],
      "text/plain": [
       "                open     close      high       low   volume    code\n",
       "date                                                               \n",
       "2010-12-31   117.103   118.469   118.701   116.620  46084.0  600519\n",
       "2011-12-31   138.039   138.468   139.600   136.105  29460.0  600519\n",
       "2012-12-31   155.208   152.087   156.292   150.144  51914.0  600519\n",
       "2013-12-31    93.188    96.480    97.179    92.061  57546.0  600519\n",
       "2014-12-31   157.642   161.056   161.379   157.132  46269.0  600519\n",
       "2015-12-31   207.487   207.458   208.704   207.106  19673.0  600519\n",
       "2016-12-31   317.239   324.563   325.670   317.239  34687.0  600519\n",
       "2017-12-31   707.948   687.725   716.329   681.918  76038.0  600519\n",
       "2018-12-31   563.300   590.010   596.400   560.000  63678.0  600519\n",
       "2019-12-31  1183.000  1183.000  1188.000  1176.510  22588.0  600519\n",
       "2020-12-31  1941.000  1998.000  1998.980  1939.000  38860.0  600519"
      ]
     },
     "execution_count": 54,
     "metadata": {},
     "output_type": "execute_result"
    }
   ],
   "source": [
    "#卖出股票\n",
    "df_yearly = new_df.resample('A').last()[:-1]\n",
    "df_yearly"
   ]
  },
  {
   "cell_type": "code",
   "execution_count": 55,
   "metadata": {},
   "outputs": [
    {
     "data": {
      "text/plain": [
       "6697384.8"
      ]
     },
     "execution_count": 55,
     "metadata": {},
     "output_type": "execute_result"
    }
   ],
   "source": [
    "recv = df_yearly['open'].sum()*1200\n",
    "recv"
   ]
  },
  {
   "cell_type": "code",
   "execution_count": 56,
   "metadata": {},
   "outputs": [],
   "source": [
    "#计算剩余股票的价值\n",
    "last_price = 8*100*new_df['open'][-1]"
   ]
  },
  {
   "cell_type": "code",
   "execution_count": 57,
   "metadata": {},
   "outputs": [
    {
     "data": {
      "text/plain": [
       "846884.6999999993"
      ]
     },
     "execution_count": 57,
     "metadata": {},
     "output_type": "execute_result"
    }
   ],
   "source": [
    "#总收益\n",
    "last_price+recv-cost"
   ]
  },
  {
   "cell_type": "markdown",
   "metadata": {},
   "source": [
    "### 需求：双均线策略制定"
   ]
  },
  {
   "cell_type": "markdown",
   "metadata": {},
   "source": [
    "- 使用tushare包获取某股票的历史行情数据"
   ]
  },
  {
   "cell_type": "code",
   "execution_count": null,
   "metadata": {},
   "outputs": [],
   "source": []
  },
  {
   "cell_type": "markdown",
   "metadata": {},
   "source": [
    "- 计算该股票历史数据的5日均线和30日均线\n",
    "    - 什么是均线？\n",
    "        - 对于每一个交易日，都可以计算出前N天的移动平均值，然后把这些移动平均值连起来，成为一条线，就叫做N日移动平均线。移动平均线常用线有5天、10天、30天、60天、120天和240天的指标。\n",
    "       - 5天和10天的是短线操作的参照指标，称做日均线指标；\n",
    "       - 30天和60天的是中期均线指标，称做季均线指标；\n",
    "       - 120天和240天的是长期均线指标，称做年均线指标。\n",
    "    - 均线计算方法：MA=（C1+C2+C3+...+Cn)/N C:某日收盘价 N:移动平均周期（天数）"
   ]
  },
  {
   "cell_type": "code",
   "execution_count": null,
   "metadata": {},
   "outputs": [],
   "source": []
  },
  {
   "cell_type": "markdown",
   "metadata": {},
   "source": [
    "- 分析输出所有金叉日期和死叉日期\n",
    "    - 股票分析技术中的金叉和死叉，可以简单解释为：\n",
    "        - 分析指标中的两根线，一根为短时间内的指标线，另一根为较长时间的指标线。\n",
    "        - 如果短时间的指标线方向拐头向上，并且穿过了较长时间的指标线，这种状态叫“金叉”；\n",
    "        - 如果短时间的指标线方向拐头向下，并且穿过了较长时间的指标线，这种状态叫“死叉”；\n",
    "        - 一般情况下，出现金叉后，操作趋向买入；死叉则趋向卖出。当然，金叉和死叉只是分析指标之一，要和其他很多指标配合使用，才能增加操作的准确性。"
   ]
  },
  {
   "attachments": {
    "image.png": {
     "image/png": "[encoded data removed]"
    }
   },
   "cell_type": "markdown",
   "metadata": {},
   "source": [
    "![image.png](attachment:image.png)"
   ]
  },
  {
   "cell_type": "code",
   "execution_count": null,
   "metadata": {},
   "outputs": [],
   "source": []
  },
  {
   "cell_type": "markdown",
   "metadata": {},
   "source": [
    "- 如果我从假如我从2010年1月1日开始，初始资金为100000元，金叉尽量买入，死叉全部卖出，则到今天为止，我的炒股收益率如何？\n"
   ]
  },
  {
   "cell_type": "code",
   "execution_count": null,
   "metadata": {},
   "outputs": [],
   "source": []
  }
 ],
 "metadata": {
  "kernelspec": {
   "display_name": "Python 3",
   "language": "python",
   "name": "python3"
  },
  "language_info": {
   "codemirror_mode": {
    "name": "ipython",
    "version": 3
   },
   "file_extension": ".py",
   "mimetype": "text/x-python",
   "name": "python",
   "nbconvert_exporter": "python",
   "pygments_lexer": "ipython3",
   "version": "3.6.4"
  }
 },
 "nbformat": 4,
 "nbformat_minor": 2
}
